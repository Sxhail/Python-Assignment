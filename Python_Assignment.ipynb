{
  "nbformat": 4,
  "nbformat_minor": 0,
  "metadata": {
    "colab": {
      "provenance": [],
      "authorship_tag": "ABX9TyNPSsY2pvVeP6e2Kq5rsgbq",
      "include_colab_link": true
    },
    "kernelspec": {
      "name": "python3",
      "display_name": "Python 3"
    },
    "language_info": {
      "name": "python"
    }
  },
  "cells": [
    {
      "cell_type": "markdown",
      "metadata": {
        "id": "view-in-github",
        "colab_type": "text"
      },
      "source": [
        "<a href=\"https://colab.research.google.com/github/Sxhail/Python-Assignment/blob/main/Python_Assignment.ipynb\" target=\"_parent\"><img src=\"https://colab.research.google.com/assets/colab-badge.svg\" alt=\"Open In Colab\"/></a>"
      ]
    },
    {
      "cell_type": "markdown",
      "source": [
        "L is a list defined as L= [11, 12, 13, 14].\n",
        "(i) WAP to add 50 and 60 to L.\n",
        "(ii) WAP to remove 11 and 13from L.\n",
        "(iii) WAP to sort L in ascending order.\n",
        "(iv) WAP to sort L in descending order.\n",
        "(v) WAP to search for 13 in L.\n",
        "(vi) WAP to count the number of elements present in L.\n",
        "(vii) WAP to sum all the elements in L.\n",
        "(viii) WAP to sum all ODD numbers in L.\n",
        "(ix) WAP to sum all EVEN numbers in L.\n",
        "(x) WAP to sum all PRIME numbers in L.\n",
        "(xi) WAP to clear all the elements in L.\n",
        "(xii) WAP to delete L"
      ],
      "metadata": {
        "id": "jkXrlRZ8JiHq"
      }
    },
    {
      "cell_type": "code",
      "source": [
        "L= [11, 14, 13, 12]\n",
        "L.append(50)\n",
        "L.append(60)\n",
        "L.remove(11)\n",
        "L.remove(13)\n",
        "ascending_L = sorted(L)\n",
        "descending_L = sorted(L, reverse = True)\n",
        "print(ascending_L)\n",
        "print(descending_L)\n",
        "print(13 in L)\n",
        "for l in L:\n",
        "    if(l == 13):\n",
        "        print(l)\n",
        "count = 0\n",
        "for l in L:\n",
        "    count = count + 1\n",
        "print(count)\n",
        "sum = 0\n",
        "for l in L:\n",
        "    sum = l+sum\n",
        "print(sum)\n",
        "\n",
        "for l in L:\n",
        "    if l % 2 != 0:\n",
        "        print(l)\n",
        "\n",
        "odd_numbers = []\n",
        "for l in L:\n",
        "    if l % 2 != 0:\n",
        "        print(l)\n",
        "        odd_numbers.append(l)\n",
        "if odd_numbers:\n",
        "    odd_sum = sum(odd_numbers)\n",
        "else:\n",
        "    odd_sum = 0\n",
        "\n",
        "prime = []\n",
        "for l in L:\n",
        "    is_prime = 0 #assume not prime\n",
        "    for i in range(1,l):\n",
        "        if(l%i==0):\n",
        "            is_prime = is_prime + 1\n",
        "    if is_prime == 1:\n",
        "        prime.append(l)\n",
        "        sum = 0\n",
        "        for l in prime:\n",
        "            sum = sum + l\n",
        "            print(sum)\n",
        "L.clear()\n",
        "print(L)\n",
        "del L[:]\n",
        "print(L)"
      ],
      "metadata": {
        "colab": {
          "base_uri": "https://localhost:8080/"
        },
        "collapsed": true,
        "id": "l_ozNjOwJlF-",
        "outputId": "2ee357b4-5653-406a-e589-5aedecc9445f"
      },
      "execution_count": 28,
      "outputs": [
        {
          "output_type": "stream",
          "name": "stdout",
          "text": [
            "[12, 14, 50, 60]\n",
            "[60, 50, 14, 12]\n",
            "False\n",
            "4\n",
            "136\n",
            "[]\n",
            "[]\n"
          ]
        }
      ]
    },
    {
      "cell_type": "markdown",
      "source": [
        "D is a dictionary defined as D= {1:5.6, 2:7.8, 3:6.6, 4:8.7, 5:7.7}.\n",
        "(i) WAP to add new entry in D; key=8 and value is 8.8\n",
        "(ii) WAP to remove key=2.\n",
        "(iii) WAP to check weather 6 key is present in D.\n",
        "(iv) WAP to count the number of elements present in D.\n",
        "(v) WAP to add all the values present D.\n",
        "(vi) WAP to update the value of 3 to 7.1.\n",
        "(vii) WAP to clear the dictionary."
      ],
      "metadata": {
        "id": "vTUKKdcIOCNR"
      }
    },
    {
      "cell_type": "code",
      "source": [
        "D= {1:5.6, 2:7.8, 3:6.6, 4:8.7, 5:7.7}\n",
        "D.update({8:8.8})\n",
        "D.pop(2)\n",
        "for k in D.keys():\n",
        "    if k == 6:\n",
        "        print(\"Present\")\n",
        "    else:\n",
        "        print(\"Not\")\n",
        "    print(D)\n",
        "\n",
        "count = 0\n",
        "for x in D:\n",
        "    count = count + 1\n",
        "print(count)\n",
        "\n",
        "sum = 0\n",
        "for v in D.values():\n",
        "    sum = sum + v\n",
        "print((sum))\n",
        "\n",
        "D.update({3:7.1})\n",
        "print(D)\n",
        "\n",
        "D.clear()\n",
        "print(D)"
      ],
      "metadata": {
        "colab": {
          "base_uri": "https://localhost:8080/"
        },
        "collapsed": true,
        "id": "n48dNON8OEEr",
        "outputId": "a057acbd-432e-4eea-e17b-1bad6b2909cf"
      },
      "execution_count": 29,
      "outputs": [
        {
          "output_type": "stream",
          "name": "stdout",
          "text": [
            "Not\n",
            "{1: 5.6, 3: 6.6, 4: 8.7, 5: 7.7, 8: 8.8}\n",
            "Not\n",
            "{1: 5.6, 3: 6.6, 4: 8.7, 5: 7.7, 8: 8.8}\n",
            "Not\n",
            "{1: 5.6, 3: 6.6, 4: 8.7, 5: 7.7, 8: 8.8}\n",
            "Not\n",
            "{1: 5.6, 3: 6.6, 4: 8.7, 5: 7.7, 8: 8.8}\n",
            "Not\n",
            "{1: 5.6, 3: 6.6, 4: 8.7, 5: 7.7, 8: 8.8}\n",
            "5\n",
            "37.4\n",
            "{1: 5.6, 3: 7.1, 4: 8.7, 5: 7.7, 8: 8.8}\n",
            "{}\n"
          ]
        }
      ]
    },
    {
      "cell_type": "markdown",
      "source": [
        "S1 is a set defined as S1= [10, 20, 30, 40, 50, 60].\n",
        " S2 is a set defined as S2= [40, 50, 60, 70, 80, 90].\n",
        "(i) WAP to add 55 and 66 in Set S1.\n",
        "(ii) WAP to remove 10 and 30 from Set S1.\n",
        "(iii) WAP to check whether 40 is present in S1.\n",
        "(iv) WAP to find the union between S1 and S2.\n",
        "(v) WAP to find the intersection between S1 and S2.\n",
        "(vi) WAP to find the S1 - S2."
      ],
      "metadata": {
        "id": "iCn5VZoKOJvq"
      }
    },
    {
      "cell_type": "code",
      "source": [
        "S1= {10, 20, 30, 40, 50, 60}\n",
        "S2= {40, 50, 60, 70, 80, 90}\n",
        "\n",
        "S1.add(55 and 66)\n",
        "S1.remove(10 and 30)\n",
        "print(S1)\n",
        "for s in S1:\n",
        "    if s == 40:\n",
        "        print(\"present\")\n",
        "    else:\n",
        "        print(\"Not\")\n",
        "\n",
        "S3 = S1.union(S2)\n",
        "print(S3)\n",
        "\n",
        "S4 = S1.intersection(S2)\n",
        "print(S4)\n",
        "\n",
        "S5 = S1.difference(S2)\n",
        "print(S5)"
      ],
      "metadata": {
        "id": "VRGxvXOgOP8B"
      },
      "execution_count": null,
      "outputs": []
    },
    {
      "cell_type": "markdown",
      "source": [
        "Write the following program.\n",
        "(i) WAP to print 100 random strings whose length between 6 and 8.\n",
        "(ii) WAP to print all prime numbers between 600 and 800.\n",
        "(iii) WAP to print all numbers between 100 and 1000 that are divisible by 7 and 9"
      ],
      "metadata": {
        "id": "mVCxbh9XOWaL"
      }
    },
    {
      "cell_type": "code",
      "source": [
        "import random as r\n",
        "import string as s\n",
        "\n",
        "characters = s.ascii_letters + s.digits\n",
        "\n",
        "def generate_random_string(length):\n",
        "    return ''.join(r.choices(characters, k = length))\n",
        "\n",
        "for _ in range(100):\n",
        "\n",
        "    r_length = r.randint(6,8)\n",
        "\n",
        "    print(generate_random_string(r_length))\n",
        "\n",
        "def is_prime(num):\n",
        "    if num>1:\n",
        "        for i in range(2,(num//2)+1):\n",
        "            if(num%i)==0:\n",
        "                break\n",
        "        else:\n",
        "            print(num,\"is a prime number\")\n",
        "\n",
        "for num in range(600,801):\n",
        "    if is_prime(num):\n",
        "        print(num)\n",
        "\n",
        "def div_by_7_9(num):\n",
        "    if num%7 != 0:\n",
        "        return False\n",
        "    return num%9 == 0\n",
        "    print(num,\"is divisible by both 7 & 9\")\n",
        "for num in range (100,1001):\n",
        "    if div_by_7_9(num):\n",
        "        print(num)\n",
        "\n",
        "\n"
      ],
      "metadata": {
        "colab": {
          "base_uri": "https://localhost:8080/"
        },
        "id": "uiJTic5DOev-",
        "outputId": "ab6fa8d7-5047-4888-914a-0d7d2a988661"
      },
      "execution_count": 30,
      "outputs": [
        {
          "output_type": "stream",
          "name": "stdout",
          "text": [
            "99WwTc\n",
            "03cw0k\n",
            "BFzTiBtg\n",
            "3ewRzy\n",
            "TLHqdWz\n",
            "DeXCudq\n",
            "TmVrmv9N\n",
            "Xc3Jp4\n",
            "ZRi8pt\n",
            "3Wh6S8JR\n",
            "3VKJ0vDW\n",
            "W93pHAU5\n",
            "bP5odN\n",
            "MGQ70F\n",
            "x8HTGZ40\n",
            "js41E2j\n",
            "E2WwTnvL\n",
            "cC5St5g\n",
            "UmAAf15\n",
            "2uMQ2UUp\n",
            "xrpNcdes\n",
            "bIYaPvw\n",
            "wA32Er\n",
            "48juQD3C\n",
            "kOcYHN\n",
            "6xhKhe\n",
            "nAN5wtVH\n",
            "RW0MJWvE\n",
            "OIhuKS3N\n",
            "uOBrja\n",
            "LykjIB\n",
            "J2hpceCj\n",
            "dHEMWZkj\n",
            "7X57QCb\n",
            "603b2b\n",
            "PZaq8V\n",
            "6uyWhwd\n",
            "ESRaCnzC\n",
            "HmTNhNm\n",
            "aocHVI\n",
            "yJZwfy7I\n",
            "loaYKeRy\n",
            "SaZ8Cah\n",
            "ncWO640v\n",
            "uQsILH\n",
            "Q3RwUtP\n",
            "nJCQIyt\n",
            "4HUeRc\n",
            "n59vIq\n",
            "fmvfYS\n",
            "iUMoMi\n",
            "aE4TyEo\n",
            "SSyIBqp\n",
            "2NHyd8G\n",
            "3f5lu0g\n",
            "OAOug7YO\n",
            "6wORCEO\n",
            "sSY2yfo\n",
            "ELl9g6s\n",
            "2N1Bxku\n",
            "2U4wIVp\n",
            "FNPbXf\n",
            "Yt29l8hR\n",
            "iCacvOiu\n",
            "P8zBRglZ\n",
            "dfIiXU\n",
            "pDIN9V\n",
            "ZWQo6RK\n",
            "XjmjUz9H\n",
            "3mkX7J0n\n",
            "SGlqL8\n",
            "htojIy\n",
            "3gf6xJ\n",
            "iFrYvFCY\n",
            "r5buR6xm\n",
            "z9JOlM\n",
            "6Pxtj7L\n",
            "fR1ZMpGz\n",
            "7EymNSx\n",
            "KHEBRm\n",
            "vj6fIHdj\n",
            "cwGeu4k\n",
            "hVIov9\n",
            "mCo2W0fC\n",
            "4tyaAS0\n",
            "pleXij\n",
            "lV45lfj\n",
            "7vYfIh\n",
            "CKySzWf\n",
            "vy5oTq\n",
            "JzgA4b1t\n",
            "L8MaQjuJ\n",
            "dTOf2Yf7\n",
            "D6CAAv\n",
            "7VkFCl2\n",
            "qi6QQdg6\n",
            "NHskp1l\n",
            "c9mxrWM1\n",
            "qcGrnx\n",
            "zKCkIuD\n",
            "601 is a prime number\n",
            "607 is a prime number\n",
            "613 is a prime number\n",
            "617 is a prime number\n",
            "619 is a prime number\n",
            "631 is a prime number\n",
            "641 is a prime number\n",
            "643 is a prime number\n",
            "647 is a prime number\n",
            "653 is a prime number\n",
            "659 is a prime number\n",
            "661 is a prime number\n",
            "673 is a prime number\n",
            "677 is a prime number\n",
            "683 is a prime number\n",
            "691 is a prime number\n",
            "701 is a prime number\n",
            "709 is a prime number\n",
            "719 is a prime number\n",
            "727 is a prime number\n",
            "733 is a prime number\n",
            "739 is a prime number\n",
            "743 is a prime number\n",
            "751 is a prime number\n",
            "757 is a prime number\n",
            "761 is a prime number\n",
            "769 is a prime number\n",
            "773 is a prime number\n",
            "787 is a prime number\n",
            "797 is a prime number\n",
            "126\n",
            "189\n",
            "252\n",
            "315\n",
            "378\n",
            "441\n",
            "504\n",
            "567\n",
            "630\n",
            "693\n",
            "756\n",
            "819\n",
            "882\n",
            "945\n"
          ]
        }
      ]
    },
    {
      "cell_type": "markdown",
      "source": [
        " WAP to create two lists of 10 random numbers between 10 and 30; Find\n",
        "(i) Common numbers in the two lists\n",
        "(ii) Unique numbers in both the list\n",
        "(iii) Minimum in both the list\n",
        "(iv) Maximum in both the list\n",
        "(v) Sum of both the lists"
      ],
      "metadata": {
        "id": "-DV1nS_fOnGH"
      }
    },
    {
      "cell_type": "code",
      "source": [
        "import random as r\n",
        "\n",
        "list1 = [r.randint(10,30) for _ in range(10)]\n",
        "list2 = [r.randint(10,30) for _ in range(10)]\n",
        "\n",
        "print(list1)\n",
        "print(list2)\n",
        "common_num = set(list1) and set(list2)\n",
        "unique_list1 = set(list1) - set(list2)\n",
        "unique_list2 = set(list2) - set(list1)\n",
        "max_list1 = max(list1)\n",
        "max_list2 = max(list2)\n",
        "min_list1 = min(list1)\n",
        "min_list2 = min(list2)\n",
        "sum_list1 = sum(list1)\n",
        "sum_list2 = sum(list2)\n",
        "total_sum = sum_list1 + sum_list2"
      ],
      "metadata": {
        "id": "TVjv133OOsiG"
      },
      "execution_count": null,
      "outputs": []
    },
    {
      "cell_type": "markdown",
      "source": [
        "WAP to calculate the time taken by a program."
      ],
      "metadata": {
        "id": "eS1kF_xuO8J9"
      }
    },
    {
      "cell_type": "code",
      "source": [
        "import time\n",
        "\n",
        "start_time = time.time()\n",
        "\n",
        "for i in range(100000000):\n",
        "    pass\n",
        "\n",
        "end_time = time.time()\n",
        "\n",
        "execution_time = end_time - start_time\n",
        "\n",
        "print(execution_time)"
      ],
      "metadata": {
        "colab": {
          "base_uri": "https://localhost:8080/"
        },
        "id": "-k9W5BcWPDth",
        "outputId": "b808be4f-29cc-410c-a531-1c47b04ab9d4"
      },
      "execution_count": 31,
      "outputs": [
        {
          "output_type": "stream",
          "name": "stdout",
          "text": [
            "5.458147764205933\n"
          ]
        }
      ]
    },
    {
      "cell_type": "markdown",
      "source": [
        "WAP to sort following number of elements in a list, calculate time taken and plot the graph.\n",
        "Number of elements in list Time Taken\n",
        "5k T1\n",
        "10k T2\n",
        "15k T3\n",
        "20k T4\n",
        "25k T5"
      ],
      "metadata": {
        "id": "zru_CvuZPH9w"
      }
    },
    {
      "cell_type": "code",
      "source": [
        "import random\n",
        "import time\n",
        "import matplotlib.pyplot as plt\n",
        "\n",
        "def generate_random_list(size):\n",
        "    return random.sample(range(size * 10), size)\n",
        "\n",
        "\n",
        "def measure_sort_time(lst):\n",
        "    start_time = time.time()\n",
        "    sorted(lst)\n",
        "    end_time = time.time()\n",
        "    return end_time - start_time\n",
        "\n",
        "\n",
        "sizes = [5000, 10000, 15000, 20000, 25000]\n",
        "times = []\n",
        "\n",
        "for size in sizes:\n",
        "    lst = generate_random_list(size)\n",
        "    sort_time = measure_sort_time(lst)\n",
        "    times.append(sort_time)\n",
        "    print(sort_time)\n",
        "\n",
        "plt.plot(sizes, times, marker='o')\n",
        "plt.xlabel('Number of elements in list')\n",
        "plt.ylabel('Time taken (seconds)')\n",
        "plt.title('Sorting Time vs Number of Elements')\n",
        "plt.grid(True)\n",
        "plt.show()\n"
      ],
      "metadata": {
        "colab": {
          "base_uri": "https://localhost:8080/",
          "height": 559
        },
        "id": "yLZ55Yg7PkF9",
        "outputId": "4c476b29-9de9-4f23-ef53-c10e77e6de53"
      },
      "execution_count": 40,
      "outputs": [
        {
          "output_type": "stream",
          "name": "stdout",
          "text": [
            "0.0027992725372314453\n",
            "0.0027458667755126953\n",
            "0.004529237747192383\n",
            "0.005203723907470703\n",
            "0.013509035110473633\n"
          ]
        },
        {
          "output_type": "display_data",
          "data": {
            "text/plain": [
              "<Figure size 640x480 with 1 Axes>"
            ],
            "image/png": "[encoded data removed]"
          },
          "metadata": {}
        }
      ]
    }
  ]
}